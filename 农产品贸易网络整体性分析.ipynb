{
  "nbformat": 4,
  "nbformat_minor": 0,
  "metadata": {
    "colab": {
      "name": "农产品贸易网络整体性分析.ipynb",
      "provenance": [],
      "toc_visible": true,
      "authorship_tag": "ABX9TyNGJ16xr0I7/Tut7i+58xlz",
      "include_colab_link": true
    },
    "kernelspec": {
      "name": "python3",
      "display_name": "Python 3"
    }
  },
  "cells": [
    {
      "cell_type": "markdown",
      "metadata": {
        "id": "view-in-github",
        "colab_type": "text"
      },
      "source": [
        "<a href=\"https://colab.research.google.com/github/tomisagoodcat/AST/blob/master/%E5%86%9C%E4%BA%A7%E5%93%81%E8%B4%B8%E6%98%93%E7%BD%91%E7%BB%9C%E6%95%B4%E4%BD%93%E6%80%A7%E5%88%86%E6%9E%90.ipynb\" target=\"_parent\"><img src=\"https://colab.research.google.com/assets/colab-badge.svg\" alt=\"Open In Colab\"/></a>"
      ]
    },
    {
      "cell_type": "markdown",
      "metadata": {
        "id": "D1YKcLS5Ri8O"
      },
      "source": [
        "**背景**\n",
        " 本实验基于data science第6章内容，结合networkx面向neo4j中农产品贸易数据进行分析，由于neo4j中缺乏对网络整体分析方法（抑或未发现），采用networkx分析，提供了对农产品贸易网络整体的概况，包括：</br>\n",
        "\n",
        "\n",
        "> 缩进块\n",
        "\n",
        "*   列表项\n",
        "*   列表项\n",
        "\n",
        "\n",
        "\n"
      ]
    },
    {
      "cell_type": "markdown",
      "metadata": {
        "id": "xcGdAS9ZSppZ"
      },
      "source": [
        "## 0 数据获取与数据处理\n",
        "数据来源于neo4j数据库，首先更加其数据结构进行处理，面向neo4j抽取节点、边信息。\n",
        "\n",
        "\n",
        "---\n",
        "没有找到直接neo4j向networkx转换方法，但适用cql查询后，通过networkx方法转换可控性更强。\n"
      ]
    },
    {
      "cell_type": "code",
      "metadata": {
        "id": "ycMUJocPSJFt"
      },
      "source": [
        "!pip install py2neo"
      ],
      "execution_count": null,
      "outputs": []
    },
    {
      "cell_type": "code",
      "metadata": {
        "id": "zqumPdZCTykx"
      },
      "source": [
        "import py2neo\n",
        "from py2neo import Graph\n",
        "import networkx as nx\n",
        "import numpy as np\n",
        "graph = Graph(\"http://47.104.76.130/\",auth=(\"neo4j\",\"123456\"))"
      ],
      "execution_count": null,
      "outputs": []
    },
    {
      "cell_type": "markdown",
      "metadata": {
        "id": "-AWmQcTBUGzF"
      },
      "source": [
        "创建cql查询，获得图数据库中节点与边，并发直接返回为dataframe，由于目前neo4j以及本体设计中分为以下模式：\n",
        "\n",
        "\n",
        "> demand，offer，aggregate，AggregateOffer，AggregateDemand\n",
        " \n",
        "在构建图时，需要构建对应不同供需图集合，以反映不同类型供需之间关联关系\n",
        "\n"
      ]
    },
    {
      "cell_type": "markdown",
      "metadata": {
        "id": "faT3e0YhrE2w"
      },
      "source": [
        "当前使用用数据集未AggregateOffer->demand，但由于设置错误，AggregateOffer实际应该对应Aggregate（供需），同时目前贸易物流关联中缺少利润、花费时间属性。"
      ]
    },
    {
      "cell_type": "code",
      "metadata": {
        "id": "qDqpjlvRUOln"
      },
      "source": [
        "data=graph.run('MATCH p=(a1:Address)<-[:ADDRESS]-(demand:Demand)<-[r:RELATION]-(offer:Aggregateoffer)-[:ADDRESS]->(a2:Address) RETURN offer.productName as productName, id(demand) as demandId, id(offer) as offerId,a2.addressname as offerAddress,a1.addressname as demandAddress,r.distince as distance').to_data_frame()"
      ],
      "execution_count": null,
      "outputs": []
    },
    {
      "cell_type": "markdown",
      "metadata": {
        "id": "KvWPOzV2vv1E"
      },
      "source": [
        "为了更好比较不同产品贸易网络特征，在data数据集基础上，建立不同产品子数据集，以进一步建立各产品子图分析。"
      ]
    },
    {
      "cell_type": "code",
      "metadata": {
        "id": "4JH68Wm6vvFp",
        "colab": {
          "base_uri": "https://localhost:8080/"
        },
        "outputId": "6fb5860b-d457-4991-c6c3-d12d409e4b35"
      },
      "source": [
        "product=data.loc[:,'productName']\n",
        "#product.drop_duplicates(inplace = True)\n",
        " \n",
        "productNum=data.groupby(['productName']).size()\n",
        "productNum.sort_values(ascending=False)\n",
        "\n",
        " "
      ],
      "execution_count": null,
      "outputs": [
        {
          "output_type": "execute_result",
          "data": {
            "text/plain": [
              "productName\n",
              "太子参（中统）    38\n",
              "板栗         33\n",
              "青苹果        27\n",
              "干辣椒        25\n",
              "白及（统个）     19\n",
              "           ..\n",
              "枇杷          1\n",
              "糯米鸡         1\n",
              "樱桃          1\n",
              "泥鳅          1\n",
              "黄鳝          1\n",
              "Length: 68, dtype: int64"
            ]
          },
          "metadata": {
            "tags": []
          },
          "execution_count": 4
        }
      ]
    },
    {
      "cell_type": "code",
      "metadata": {
        "id": "Zl25q3LFDiEG"
      },
      "source": [
        "data1=data[data['productName']=='太子参（中统）']\n",
        "data2=data[data['productName']=='青苹果']\n",
        "data3=data[data['productName']=='干辣椒']"
      ],
      "execution_count": null,
      "outputs": []
    },
    {
      "cell_type": "code",
      "metadata": {
        "id": "AVfVdH9pDtFo",
        "colab": {
          "base_uri": "https://localhost:8080/",
          "height": 824
        },
        "outputId": "e6fd4851-7b65-4242-f009-4d2236ac6eb6"
      },
      "source": [
        ""
      ],
      "execution_count": null,
      "outputs": [
        {
          "output_type": "execute_result",
          "data": {
            "text/html": [
              "<div>\n",
              "<style scoped>\n",
              "    .dataframe tbody tr th:only-of-type {\n",
              "        vertical-align: middle;\n",
              "    }\n",
              "\n",
              "    .dataframe tbody tr th {\n",
              "        vertical-align: top;\n",
              "    }\n",
              "\n",
              "    .dataframe thead th {\n",
              "        text-align: right;\n",
              "    }\n",
              "</style>\n",
              "<table border=\"1\" class=\"dataframe\">\n",
              "  <thead>\n",
              "    <tr style=\"text-align: right;\">\n",
              "      <th></th>\n",
              "      <th>productName</th>\n",
              "      <th>demandId</th>\n",
              "      <th>offerId</th>\n",
              "      <th>offerAddress</th>\n",
              "      <th>demandAddress</th>\n",
              "      <th>distance</th>\n",
              "    </tr>\n",
              "  </thead>\n",
              "  <tbody>\n",
              "    <tr>\n",
              "      <th>210</th>\n",
              "      <td>干辣椒</td>\n",
              "      <td>279</td>\n",
              "      <td>276529</td>\n",
              "      <td>织金县宏洲中心农贸市场</td>\n",
              "      <td>绥阳县洋川镇平安大道</td>\n",
              "      <td>239608.0</td>\n",
              "    </tr>\n",
              "    <tr>\n",
              "      <th>211</th>\n",
              "      <td>干辣椒</td>\n",
              "      <td>279</td>\n",
              "      <td>257181</td>\n",
              "      <td>兴义市丰源市场</td>\n",
              "      <td>绥阳县洋川镇平安大道</td>\n",
              "      <td>477148.0</td>\n",
              "    </tr>\n",
              "    <tr>\n",
              "      <th>212</th>\n",
              "      <td>干辣椒</td>\n",
              "      <td>279</td>\n",
              "      <td>291154</td>\n",
              "      <td>六盘水明湖农贸市场</td>\n",
              "      <td>绥阳县洋川镇平安大道</td>\n",
              "      <td>345940.0</td>\n",
              "    </tr>\n",
              "    <tr>\n",
              "      <th>213</th>\n",
              "      <td>干辣椒</td>\n",
              "      <td>279</td>\n",
              "      <td>289745</td>\n",
              "      <td>贵州省锦屏农贸大市场</td>\n",
              "      <td>绥阳县洋川镇平安大道</td>\n",
              "      <td>358767.0</td>\n",
              "    </tr>\n",
              "    <tr>\n",
              "      <th>214</th>\n",
              "      <td>干辣椒</td>\n",
              "      <td>279</td>\n",
              "      <td>81254</td>\n",
              "      <td>仁怀市杨堡坝 农贸市场</td>\n",
              "      <td>绥阳县洋川镇平安大道</td>\n",
              "      <td>120376.0</td>\n",
              "    </tr>\n",
              "    <tr>\n",
              "      <th>215</th>\n",
              "      <td>干辣椒</td>\n",
              "      <td>279</td>\n",
              "      <td>210919</td>\n",
              "      <td>兴义市克马山综合农贸市场</td>\n",
              "      <td>绥阳县洋川镇平安大道</td>\n",
              "      <td>475051.0</td>\n",
              "    </tr>\n",
              "    <tr>\n",
              "      <th>216</th>\n",
              "      <td>干辣椒</td>\n",
              "      <td>279</td>\n",
              "      <td>289861</td>\n",
              "      <td>贵州省万山农贸市场</td>\n",
              "      <td>绥阳县洋川镇平安大道</td>\n",
              "      <td>308868.0</td>\n",
              "    </tr>\n",
              "    <tr>\n",
              "      <th>336</th>\n",
              "      <td>干辣椒</td>\n",
              "      <td>459</td>\n",
              "      <td>289745</td>\n",
              "      <td>贵州省锦屏农贸大市场</td>\n",
              "      <td>镇远县江古镇</td>\n",
              "      <td>135344.0</td>\n",
              "    </tr>\n",
              "    <tr>\n",
              "      <th>337</th>\n",
              "      <td>干辣椒</td>\n",
              "      <td>459</td>\n",
              "      <td>210919</td>\n",
              "      <td>兴义市克马山综合农贸市场</td>\n",
              "      <td>镇远县江古镇</td>\n",
              "      <td>539574.0</td>\n",
              "    </tr>\n",
              "    <tr>\n",
              "      <th>338</th>\n",
              "      <td>干辣椒</td>\n",
              "      <td>459</td>\n",
              "      <td>289861</td>\n",
              "      <td>贵州省万山农贸市场</td>\n",
              "      <td>镇远县江古镇</td>\n",
              "      <td>115934.0</td>\n",
              "    </tr>\n",
              "    <tr>\n",
              "      <th>339</th>\n",
              "      <td>干辣椒</td>\n",
              "      <td>459</td>\n",
              "      <td>276529</td>\n",
              "      <td>织金县宏洲中心农贸市场</td>\n",
              "      <td>镇远县江古镇</td>\n",
              "      <td>360311.0</td>\n",
              "    </tr>\n",
              "    <tr>\n",
              "      <th>340</th>\n",
              "      <td>干辣椒</td>\n",
              "      <td>459</td>\n",
              "      <td>257181</td>\n",
              "      <td>兴义市丰源市场</td>\n",
              "      <td>镇远县江古镇</td>\n",
              "      <td>541671.0</td>\n",
              "    </tr>\n",
              "    <tr>\n",
              "      <th>341</th>\n",
              "      <td>干辣椒</td>\n",
              "      <td>459</td>\n",
              "      <td>291154</td>\n",
              "      <td>六盘水明湖农贸市场</td>\n",
              "      <td>镇远县江古镇</td>\n",
              "      <td>485494.0</td>\n",
              "    </tr>\n",
              "    <tr>\n",
              "      <th>342</th>\n",
              "      <td>干辣椒</td>\n",
              "      <td>459</td>\n",
              "      <td>81254</td>\n",
              "      <td>仁怀市杨堡坝 农贸市场</td>\n",
              "      <td>镇远县江古镇</td>\n",
              "      <td>328487.0</td>\n",
              "    </tr>\n",
              "    <tr>\n",
              "      <th>343</th>\n",
              "      <td>干辣椒</td>\n",
              "      <td>459</td>\n",
              "      <td>173665</td>\n",
              "      <td>清镇第一农贸市场</td>\n",
              "      <td>镇远县江古镇</td>\n",
              "      <td>275925.0</td>\n",
              "    </tr>\n",
              "    <tr>\n",
              "      <th>344</th>\n",
              "      <td>干辣椒</td>\n",
              "      <td>459</td>\n",
              "      <td>53717</td>\n",
              "      <td>罗甸县河滨农贸市场</td>\n",
              "      <td>镇远县江古镇</td>\n",
              "      <td>327063.0</td>\n",
              "    </tr>\n",
              "    <tr>\n",
              "      <th>386</th>\n",
              "      <td>干辣椒</td>\n",
              "      <td>544</td>\n",
              "      <td>276529</td>\n",
              "      <td>织金县宏洲中心农贸市场</td>\n",
              "      <td>绥阳县郑场镇狮山村机场快速通道路边</td>\n",
              "      <td>246350.0</td>\n",
              "    </tr>\n",
              "    <tr>\n",
              "      <th>387</th>\n",
              "      <td>干辣椒</td>\n",
              "      <td>544</td>\n",
              "      <td>291154</td>\n",
              "      <td>六盘水明湖农贸市场</td>\n",
              "      <td>绥阳县郑场镇狮山村机场快速通道路边</td>\n",
              "      <td>352682.0</td>\n",
              "    </tr>\n",
              "    <tr>\n",
              "      <th>388</th>\n",
              "      <td>干辣椒</td>\n",
              "      <td>544</td>\n",
              "      <td>53717</td>\n",
              "      <td>罗甸县河滨农贸市场</td>\n",
              "      <td>绥阳县郑场镇狮山村机场快速通道路边</td>\n",
              "      <td>328239.0</td>\n",
              "    </tr>\n",
              "    <tr>\n",
              "      <th>389</th>\n",
              "      <td>干辣椒</td>\n",
              "      <td>544</td>\n",
              "      <td>81254</td>\n",
              "      <td>仁怀市杨堡坝 农贸市场</td>\n",
              "      <td>绥阳县郑场镇狮山村机场快速通道路边</td>\n",
              "      <td>125829.0</td>\n",
              "    </tr>\n",
              "    <tr>\n",
              "      <th>390</th>\n",
              "      <td>干辣椒</td>\n",
              "      <td>544</td>\n",
              "      <td>289745</td>\n",
              "      <td>贵州省锦屏农贸大市场</td>\n",
              "      <td>绥阳县郑场镇狮山村机场快速通道路边</td>\n",
              "      <td>346476.0</td>\n",
              "    </tr>\n",
              "    <tr>\n",
              "      <th>391</th>\n",
              "      <td>干辣椒</td>\n",
              "      <td>544</td>\n",
              "      <td>289861</td>\n",
              "      <td>贵州省万山农贸市场</td>\n",
              "      <td>绥阳县郑场镇狮山村机场快速通道路边</td>\n",
              "      <td>296577.0</td>\n",
              "    </tr>\n",
              "    <tr>\n",
              "      <th>392</th>\n",
              "      <td>干辣椒</td>\n",
              "      <td>544</td>\n",
              "      <td>210919</td>\n",
              "      <td>兴义市克马山综合农贸市场</td>\n",
              "      <td>绥阳县郑场镇狮山村机场快速通道路边</td>\n",
              "      <td>476407.0</td>\n",
              "    </tr>\n",
              "    <tr>\n",
              "      <th>393</th>\n",
              "      <td>干辣椒</td>\n",
              "      <td>544</td>\n",
              "      <td>257181</td>\n",
              "      <td>兴义市丰源市场</td>\n",
              "      <td>绥阳县郑场镇狮山村机场快速通道路边</td>\n",
              "      <td>478504.0</td>\n",
              "    </tr>\n",
              "    <tr>\n",
              "      <th>394</th>\n",
              "      <td>干辣椒</td>\n",
              "      <td>544</td>\n",
              "      <td>173665</td>\n",
              "      <td>清镇第一农贸市场</td>\n",
              "      <td>绥阳县郑场镇狮山村机场快速通道路边</td>\n",
              "      <td>202652.0</td>\n",
              "    </tr>\n",
              "  </tbody>\n",
              "</table>\n",
              "</div>"
            ],
            "text/plain": [
              "    productName  demandId  offerId  offerAddress      demandAddress  distance\n",
              "210         干辣椒       279   276529   织金县宏洲中心农贸市场         绥阳县洋川镇平安大道  239608.0\n",
              "211         干辣椒       279   257181       兴义市丰源市场         绥阳县洋川镇平安大道  477148.0\n",
              "212         干辣椒       279   291154     六盘水明湖农贸市场         绥阳县洋川镇平安大道  345940.0\n",
              "213         干辣椒       279   289745    贵州省锦屏农贸大市场         绥阳县洋川镇平安大道  358767.0\n",
              "214         干辣椒       279    81254   仁怀市杨堡坝 农贸市场         绥阳县洋川镇平安大道  120376.0\n",
              "215         干辣椒       279   210919  兴义市克马山综合农贸市场         绥阳县洋川镇平安大道  475051.0\n",
              "216         干辣椒       279   289861     贵州省万山农贸市场         绥阳县洋川镇平安大道  308868.0\n",
              "336         干辣椒       459   289745    贵州省锦屏农贸大市场             镇远县江古镇  135344.0\n",
              "337         干辣椒       459   210919  兴义市克马山综合农贸市场             镇远县江古镇  539574.0\n",
              "338         干辣椒       459   289861     贵州省万山农贸市场             镇远县江古镇  115934.0\n",
              "339         干辣椒       459   276529   织金县宏洲中心农贸市场             镇远县江古镇  360311.0\n",
              "340         干辣椒       459   257181       兴义市丰源市场             镇远县江古镇  541671.0\n",
              "341         干辣椒       459   291154     六盘水明湖农贸市场             镇远县江古镇  485494.0\n",
              "342         干辣椒       459    81254   仁怀市杨堡坝 农贸市场             镇远县江古镇  328487.0\n",
              "343         干辣椒       459   173665      清镇第一农贸市场             镇远县江古镇  275925.0\n",
              "344         干辣椒       459    53717     罗甸县河滨农贸市场             镇远县江古镇  327063.0\n",
              "386         干辣椒       544   276529   织金县宏洲中心农贸市场  绥阳县郑场镇狮山村机场快速通道路边  246350.0\n",
              "387         干辣椒       544   291154     六盘水明湖农贸市场  绥阳县郑场镇狮山村机场快速通道路边  352682.0\n",
              "388         干辣椒       544    53717     罗甸县河滨农贸市场  绥阳县郑场镇狮山村机场快速通道路边  328239.0\n",
              "389         干辣椒       544    81254   仁怀市杨堡坝 农贸市场  绥阳县郑场镇狮山村机场快速通道路边  125829.0\n",
              "390         干辣椒       544   289745    贵州省锦屏农贸大市场  绥阳县郑场镇狮山村机场快速通道路边  346476.0\n",
              "391         干辣椒       544   289861     贵州省万山农贸市场  绥阳县郑场镇狮山村机场快速通道路边  296577.0\n",
              "392         干辣椒       544   210919  兴义市克马山综合农贸市场  绥阳县郑场镇狮山村机场快速通道路边  476407.0\n",
              "393         干辣椒       544   257181       兴义市丰源市场  绥阳县郑场镇狮山村机场快速通道路边  478504.0\n",
              "394         干辣椒       544   173665      清镇第一农贸市场  绥阳县郑场镇狮山村机场快速通道路边  202652.0"
            ]
          },
          "metadata": {
            "tags": []
          },
          "execution_count": 70
        }
      ]
    },
    {
      "cell_type": "markdown",
      "metadata": {
        "id": "ETt7Th0sq7Jb"
      },
      "source": [
        ""
      ]
    },
    {
      "cell_type": "markdown",
      "metadata": {
        "id": "rCiZ-FFRUVwf"
      },
      "source": [
        "基于networkx的from_pandas_edgelist方法，实现dataframe向networkx转换，见[networkx.convert_matrix.from_pandas_edgelist](https://networkx.github.io/documentation/stable/reference/generated/networkx.convert_matrix.from_pandas_edgelist.html?highlight=from_pandas_edgelist#networkx.convert_matrix.from_pandas_edgelist)\n",
        "G1,G2,G3 分别代表不同产品的贸易网络"
      ]
    },
    {
      "cell_type": "code",
      "metadata": {
        "id": "rGQejESuUWKI"
      },
      "source": [
        "import networkx as nx\n",
        "#G=nx.from_pandas_edgelist(data,'offerId', 'demandId', ['distance', 'costTime'])\n",
        "G=nx.from_pandas_edgelist(data,'offerId', 'demandId', ['distance'])\n",
        "G1=nx.from_pandas_edgelist(data1,'offerId', 'demandId', ['distance'])\n",
        "G2=nx.from_pandas_edgelist(data2,'offerId', 'demandId', ['distance'])\n",
        "G3=nx.from_pandas_edgelist(data3,'offerId', 'demandId', ['distance'])"
      ],
      "execution_count": null,
      "outputs": []
    },
    {
      "cell_type": "code",
      "metadata": {
        "id": "YE6i2NzSU2pU",
        "colab": {
          "base_uri": "https://localhost:8080/",
          "height": 207
        },
        "outputId": "55ad8d03-be0d-4cca-8b29-daf48c5e9ce7"
      },
      "source": [
        "plt.figure(figsize=(7.5,2.75))\n",
        "plt.subplot(1,3,1)\n",
        "nx.draw(G1, with_labels=True)#查看图像\n",
        "plt.subplot(1,3,2)\n",
        "nx.draw(G2, with_labels=True)#查看图像\n",
        "plt.subplot(1,3,3)\n",
        "nx.draw(G3, with_labels=True)#查看图像\n",
        "plt.tight_layout()"
      ],
      "execution_count": null,
      "outputs": [
        {
          "output_type": "display_data",
          "data": {
            "image/png": "[encoded data removed]",
            "text/plain": [
              "<Figure size 540x198 with 3 Axes>"
            ]
          },
          "metadata": {
            "tags": []
          }
        }
      ]
    },
    {
      "cell_type": "markdown",
      "metadata": {
        "id": "zyzQCMYoVNDM"
      },
      "source": [
        "\n"
      ]
    },
    {
      "cell_type": "markdown",
      "metadata": {
        "id": "OCGDGvLn-dr3"
      },
      "source": [
        "# 1 网络整体描述\n"
      ]
    },
    {
      "cell_type": "markdown",
      "metadata": {
        "id": "DoFEcB6j_GZ6"
      },
      "source": [
        "###（1）Diameter and mean shortest path</br>\n",
        "The distance between all nodes pairs can be found using the shortest_path_leght() function. This function produces an iterator that can be turned into a dict of dict objects, with the keys of the first correponding to source node IDs, and the keys of the second coreesponding to target node IDs."
      ]
    },
    {
      "cell_type": "code",
      "metadata": {
        "id": "nNcGXmogWquX"
      },
      "source": [
        "length_source_target=dict(nx.shortest_path_length(G))#生成节点最短路径对，并以字典形式保存"
      ],
      "execution_count": null,
      "outputs": []
    },
    {
      "cell_type": "markdown",
      "metadata": {
        "id": "pjE18PqCW_pm"
      },
      "source": [
        "### （2）网络最短路径分布\n",
        "Networks can be characterized according to their** distribution of shortest path lenghts.** The following fucntion draws a histogram of all shortest path lenghts within a network.</br>\n",
        "得到分析结果后，如何结合其实际经济学意义进行解释更为重要。网络中，路径代表不同地理位置之间有利润有向连接。"
      ]
    },
    {
      "cell_type": "code",
      "metadata": {
        "id": "CcLCpXfHW01X"
      },
      "source": [
        "def path_length_histogram(G, title=None):\n",
        "    # Find path lengths\n",
        "    length_source_target = dict(nx.shortest_path_length(G))\n",
        "    # Convert dict of dicts to flat list\n",
        "    all_shortest = sum(\n",
        "        [list(length_target.values()) for length_target in length_source_target.values()],\n",
        "        [])\n",
        "    # Calculate integer bins\n",
        "    high = max(all_shortest)\n",
        "    bins = [-0.5 + i for i in range(high + 2)]\n",
        "    # Plot histogram\n",
        "    plt.hist(all_shortest, bins=bins, rwidth=0.8)\n",
        "    plt.title(title)\n",
        "    plt.xlabel(\"Distance\")\n",
        "    plt.ylabel(\"Count\")"
      ],
      "execution_count": null,
      "outputs": []
    },
    {
      "cell_type": "code",
      "metadata": {
        "id": "omsmiHTbY59_"
      },
      "source": [
        "from matplotlib import pyplot as plt\n",
        "path_length_histogram(G, title='农产品贸易网络最短路径分布')"
      ],
      "execution_count": null,
      "outputs": []
    },
    {
      "cell_type": "code",
      "metadata": {
        "id": "B_Yr-hwHo8C9"
      },
      "source": [
        "#One such measure is the mean shortest path length alos know as the characteristic lenght\n",
        "average_lenght=nx.average_shortest_path_length(G)\n",
        "print(\"农产品贸易网络平均最短路径为\"+average_lenght)\n",
        "nx.diameter(G)"
      ],
      "execution_count": null,
      "outputs": []
    },
    {
      "cell_type": "code",
      "metadata": {
        "id": "IlDM2ZJRps06"
      },
      "source": [
        "nx.diameter(G)"
      ],
      "execution_count": null,
      "outputs": []
    },
    {
      "cell_type": "markdown",
      "metadata": {
        "id": "vcQ8RuSdVQRh"
      },
      "source": [
        "###（3）网络容错能力\n",
        "</br>Resilience is the ability of a system to withstand errors and attacks. Resilience is fundamentally a network property because it is usually achieved with redundant paths. When one path is no longer availabe, the others can still be used.\n",
        "\n",
        "---\n",
        "  农产品贸易网络中，容错能力反映当网络中多个贸易路线消失，农产品贸易整体受到影响程度。\n"
      ]
    },
    {
      "cell_type": "code",
      "metadata": {
        "id": "YO18BtDQ1xik",
        "colab": {
          "base_uri": "https://localhost:8080/",
          "height": 35
        },
        "outputId": "c4573916-f643-4ac1-d922-e65782c0afbe"
      },
      "source": [
        "print(\"农产品贸易网络密度:\"+str(nx.density(G)))"
      ],
      "execution_count": null,
      "outputs": [
        {
          "output_type": "stream",
          "text": [
            "农产品贸易网络密度:0.004254487227228718\n"
          ],
          "name": "stdout"
        }
      ]
    },
    {
      "cell_type": "markdown",
      "metadata": {
        "id": "IEqxHq4W2aXi"
      },
      "source": [
        "(4)Minimum cuts\n",
        "more sophisticated measures of relience are based on the concept of minimum cuts. A minimum cut or min-cut is the number of nodes(or edges)that need be removed to sparate the network into two unconnected parts.\n",
        "但感觉在农产品贸易中网中意义不是很大。"
      ]
    },
    {
      "cell_type": "code",
      "metadata": {
        "id": "K3GDl5Fc2ZXX"
      },
      "source": [
        "import networkx.algorithms.connectivity as nxcon \n",
        "nxcon.minimum_st_node_cut(G,1,2)#mini-cut是考虑两个节点间变量，对整体网络没有意义。"
      ],
      "execution_count": null,
      "outputs": []
    },
    {
      "cell_type": "markdown",
      "metadata": {
        "id": "ueN2NA1n8WGw"
      },
      "source": [
        "###（4）Connectivity 连通性</br>\n",
        "Minimum cuts can be used to define connectivity measures for entire networks. These measures are very useful for quantifying the relilience of a network.\n",
        "</br>The node connectivity is the smallest nim-cut over all node paris.将网络分割所需要移走最少节点或边"
      ]
    },
    {
      "cell_type": "code",
      "metadata": {
        "id": "S8czoLRJ8qvW"
      },
      "source": [
        "nxcon.minimum_node_cut(G)#由于农产品贸易网络为非全联通网络该分析无效"
      ],
      "execution_count": null,
      "outputs": []
    },
    {
      "cell_type": "markdown",
      "metadata": {
        "id": "mRvppMeD-9s0"
      },
      "source": [
        "### *（5）Centralization and inequality \n",
        "<font color='red'>本部分是考察农产品贸易网络较重要指标</font></br>\n",
        "Networks can also be callified by how centralized they are-how much of their centrality is concentrated in one ore a few nodes. Unequal distributions are more centralized. As an example, the most centralized network would be all nodes connectred to a single hub node.*斜体文本*"
      ]
    },
    {
      "cell_type": "code",
      "metadata": {
        "id": "meyenfGO8VQb",
        "colab": {
          "base_uri": "https://localhost:8080/",
          "height": 207
        },
        "outputId": "01367017-cd90-4412-d15a-59a98d4bec13"
      },
      "source": [
        "#function to plot a single histogram \n",
        "def centrality_histogram(x,title=None):\n",
        "  plt.hist(x,density=True)\n",
        "  plt.title(title)\n",
        "  plt.xlabel(\"Centrality\")\n",
        "  plt.ylabel(\"Density\")\n",
        "plt.figure(figsize=(7.5,2.75))\n",
        "plt.subplot(1,3,1)\n",
        "centrality_histogram(nx.eigenvector_centrality(G1,max_iter=1000).values(),title=\"G1\")\n",
        "plt.subplot(1,3,2)\n",
        "centrality_histogram(nx.eigenvector_centrality(G2,max_iter=1000).values(),title=\"G2\")\n",
        "plt.subplot(1,3,3)\n",
        "centrality_histogram(nx.eigenvector_centrality(G3,max_iter=1000).values(),title=\"G3\")\n",
        "plt.tight_layout()"
      ],
      "execution_count": null,
      "outputs": [
        {
          "output_type": "display_data",
          "data": {
            "image/png": "[encoded data removed]",
            "text/plain": [
              "<Figure size 540x198 with 3 Axes>"
            ]
          },
          "metadata": {
            "tags": [],
            "needs_background": "light"
          }
        }
      ]
    },
    {
      "cell_type": "markdown",
      "metadata": {
        "id": "eQpow0GaCjr2"
      },
      "source": [
        "网络不平等性与集中性可以结合香农，[香浓信息熵](https://zh.wikipedia.org/wiki/%E7%86%B5_(%E4%BF%A1%E6%81%AF%E8%AE%BA))，基尼指数进行分析。其中基尼指数越接近1，说明网络集中度越高，不平等越严重。分析发现，xx产品在时间区间内基于集中性的信息熵（6.69）与基尼指数（0.602）都偏高，说明农产品贸易网络集中程度较高，可能发生地区间贸易集中现象。"
      ]
    },
    {
      "cell_type": "code",
      "metadata": {
        "id": "VHa137yMCiTx",
        "colab": {
          "base_uri": "https://localhost:8080/",
          "height": 35
        },
        "outputId": "49bb1b8c-811e-4a54-d344-ebe17f2a7fc5"
      },
      "source": [
        "import math\n",
        "def entropy(x):\n",
        "  total=sum(x)\n",
        "  x=[xi/total for xi in x]\n",
        "  H=sum([-xi*math.log2(xi) for xi in x])\n",
        "  return H\n",
        "G1_en=entropy(nx.eigenvector_centrality(G1,max_iter=1000).values())\n",
        "G2_en=entropy(nx.eigenvector_centrality(G2,max_iter=1000).values())\n",
        "G3_en=entropy(nx.eigenvector_centrality(G3,max_iter=1000).values())\n",
        "print(G1_en,G2_en,G3_en)"
      ],
      "execution_count": null,
      "outputs": [
        {
          "output_type": "stream",
          "text": [
            "4.2554991698219204 4.625118471647159 3.526218658817222\n"
          ],
          "name": "stdout"
        }
      ]
    },
    {
      "cell_type": "code",
      "metadata": {
        "id": "vD6OcfC2IYJR",
        "colab": {
          "base_uri": "https://localhost:8080/",
          "height": 35
        },
        "outputId": "571c2f1d-6ffe-4371-fbbe-a17e6b0a74b1"
      },
      "source": [
        "def gini(x):\n",
        "    x = [xi for xi in x]\n",
        "    n = len(x)\n",
        "    gini_num = sum([sum([abs(x_i - x_j) for x_j in x]) for x_i in x])\n",
        "    gini_den = 2.0 * n * sum(x)\n",
        "    return gini_num / gini_den\n",
        "G1_gini=gini(nx.eigenvector_centrality(G1,max_iter=1000).values())\n",
        "G2_gini=gini(nx.eigenvector_centrality(G2,max_iter=1000).values())\n",
        "G3_gini=gini(nx.eigenvector_centrality(G3,max_iter=1000).values())\n",
        "print(G1_gini,G2_gini,G3_gini)"
      ],
      "execution_count": null,
      "outputs": [
        {
          "output_type": "stream",
          "text": [
            "0.14972668675661713 0.12567666770171743 0.14659132717656845\n"
          ],
          "name": "stdout"
        }
      ]
    },
    {
      "cell_type": "markdown",
      "metadata": {
        "id": "4aYH3xgGuYN7"
      },
      "source": [
        "# 2 In-Between-Communities \n",
        "社群分析"
      ]
    },
    {
      "cell_type": "markdown",
      "metadata": {
        "id": "TYIBewkVJfgJ"
      },
      "source": [
        "### （1）Modularity Maximization\n",
        "One approach to finding such a partition is to define a function that quantifies the quality of a set of partitions, and then adjust the partition to maximize the quality. </br>\n",
        "One popular qulity measure is claaed **modularity**. The general idea is that edges within communities should be more common than edges across communities. </br>\n",
        "在图数据中，社区是一个节点簇，具有相对较高密度的内部连接。社区就是具有高模块性（high modularity）的一个节点集合。社区可能彼此重叠、嵌套，使得上层社区由局部社区组成。\n",
        "\n",
        "\n",
        "> When using community detection algorithms, we need to be conscious of the density of the relationships in the subgraphs on which we’re running the algorithm. If it’s very dense and all nodes are connected to each other, we may end up with all nodes congregating in one cluster. On the other hand if it’s too sparse and few nodes are connected, then we may end up with each node in its own cluster.\n",
        "</br> The function below implements  Clauset_Newman-Moore cummunity detection. Each node begins as its own commnity. The two commnities that most increse the modularity are then merged(know as a greedy strategy), this is repeated until merging any further would decrease the modularity. \n"
      ]
    },
    {
      "cell_type": "code",
      "metadata": {
        "id": "8_7kBNrBptgJ",
        "colab": {
          "base_uri": "https://localhost:8080/",
          "height": 35
        },
        "outputId": "0f63556b-98c8-4c5f-9277-b61078780f9a"
      },
      "source": [
        "import networkx.algorithms.community as nxcom\n",
        "communities=sorted(nxcom.greedy_modularity_communities(G),key=len,reverse=True)\n",
        "len(communities)#返回得到的聚集数目"
      ],
      "execution_count": null,
      "outputs": [
        {
          "output_type": "execute_result",
          "data": {
            "text/plain": [
              "9"
            ]
          },
          "metadata": {
            "tags": []
          },
          "execution_count": 14
        }
      ]
    },
    {
      "cell_type": "markdown",
      "metadata": {
        "id": "TtJ_ZIm7Ul5_"
      },
      "source": [
        "可视化聚集结果，定义可视化相关函数"
      ]
    },
    {
      "cell_type": "code",
      "metadata": {
        "id": "yrM26-BgU1I8"
      },
      "source": [
        "def set_node_community(G, communities):\n",
        "    '''Add community to node attributes'''\n",
        "    for c, v_c in enumerate(communities):\n",
        "        for v in v_c:\n",
        "            # Add 1 to save 0 for external edges\n",
        "            G.nodes[v]['community'] = c + 1\n",
        "            \n",
        "def set_edge_community(G):\n",
        "    '''Find internal edges and add their community to their attributes'''\n",
        "    for v, w, in G.edges:\n",
        "        if G.nodes[v]['community'] == G.nodes[w]['community']:\n",
        "            # Internal edge, mark with community\n",
        "            G.edges[v, w]['community'] = G.nodes[v]['community']\n",
        "        else:\n",
        "            # External edge, mark as 0\n",
        "            G.edges[v, w]['community'] = 0\n",
        "def get_color(i, r_off=1, g_off=1, b_off=1):\n",
        "    r0, g0, b0 = 0, 0, 0\n",
        "    n = 16\n",
        "    low, high = 0.1, 0.9\n",
        "    span = high - low\n",
        "    r = low + span * (((i + r_off) * 3) % n) / (n - 1)\n",
        "    g = low + span * (((i + g_off) * 5) % n) / (n - 1)\n",
        "    b = low + span * (((i + b_off) * 7) % n) / (n - 1)\n",
        "    return (r, g, b)"
      ],
      "execution_count": null,
      "outputs": []
    },
    {
      "cell_type": "code",
      "metadata": {
        "id": "iuZ3CNMFVSrX"
      },
      "source": [
        "set_node_community(G,communities)\n",
        "set_edge_community(G)\n",
        "# Set community color for nodes\n",
        "node_color = [get_color(G.nodes[v]['community']) for v in G.nodes]\n",
        "\n",
        "# Set community color for internal edges\n",
        "external = [(v, w) for v, w in G.edges if G.edges[v, w]['community'] == 0]\n",
        "internal = [(v, w) for v, w in G.edges if G.edges[v, w]['community'] > 0]\n",
        "internal_color = [get_color(G.edges[e]['community']) for e in internal]"
      ],
      "execution_count": null,
      "outputs": []
    },
    {
      "cell_type": "code",
      "metadata": {
        "id": "cEJ2pLAIVyVS"
      },
      "source": [
        "karate_pos = nx.spring_layout(G)\n",
        "# Draw external edges\n",
        "nx.draw_networkx(\n",
        "    G,\n",
        "    pos=karate_pos,\n",
        "    node_size=0,\n",
        "    edgelist=external,\n",
        "    edge_color=\"#333333\")\n",
        "# Draw nodes and internal edges\n",
        "plt.figure(figsize=(20,20))\n",
        "nx.draw_networkx(\n",
        "    G,\n",
        "    pos=karate_pos,\n",
        "    node_color=node_color,\n",
        "    edgelist=internal,\n",
        "    edge_color=internal_color)"
      ],
      "execution_count": null,
      "outputs": []
    },
    {
      "cell_type": "markdown",
      "metadata": {
        "id": "mqNBfxDQmcKg"
      },
      "source": [
        "# 3 中心性\n",
        "Centrality algorithms are used to find the most influential nodes in a graph. Many of these algorithms were invented in the field of social network analysis.\n",
        "\n",
        "\n",
        "> 度：节点的度（degree），包括出度、入度，是连接到给定节点的边数。度为0的节点是没有边的节点，是孤立节点。度为1的节点只有1个边，即叶子节点(leaf node)</br>考虑到整个图时，平均度（average degree）是所有节点度的平均值。平均度高时，每个节点都有很高连通性，图连接比较稠密，有大量的边，而稠密的图一般更难布局。</br>最大度（maximum degree）特别值得注意。例如在社交网络中，具有最大度节点是最多相连节点的节点，在病毒传播中是重点对象。\n",
        "\n",
        "\n"
      ]
    },
    {
      "cell_type": "markdown",
      "metadata": {
        "id": "50tsPFqY1fRD"
      },
      "source": [
        "## （1）中心度（centrality）的概念用来识别位于图中心的节点，测量方法包括：\n",
        "\n",
        "\n",
        "1.   度中心度（degree centrality）\n",
        "2.   间距中心度（betweenness centrality）\n",
        "3.   紧密中心度（closeness centrality）\n",
        "4.   Katz中心度\n",
        "5.   特征向量中心度（Eigenvector centrality）\n",
        "6.   pagerank\n",
        "\n"
      ]
    },
    {
      "cell_type": "markdown",
      "metadata": {
        "id": "g1RzD43k2ZgB"
      },
      "source": [
        "#### 1)特征向量中心度\n",
        "是一种递归方法，如果某个节点的邻接节点是中心节点，那么该节点很可能也是中心节点。"
      ]
    },
    {
      "cell_type": "code",
      "metadata": {
        "id": "uAX4QOWryRR9",
        "colab": {
          "base_uri": "https://localhost:8080/",
          "height": 431
        },
        "outputId": "f70d4e9e-6f76-4123-f494-1fdd8a0ddbd3"
      },
      "source": [
        "import pandas as pd\n",
        "eigenvector=nx.eigenvector_centrality(G)\n",
        "eigenvector_score=sorted(eigenvector.items(),key=lambda x:x[1],reverse=True)[0:10]\n",
        "type(eigenvector_score)\n",
        "#通过把计算结果转为pandas与原始数据对比，返回结果\n",
        "#eigenvector\n",
        "e_pd=pd.DataFrame.from_dict(eigenvector, orient='index',columns=['eigenvector_score'])#将得到结果（dic）转换为dataframe\n",
        "e2=e_pd.reset_index()#将dataframe中index转换为column，默认列名为index\n",
        "#e2.rename(columns = {\"index\": \"nodeId\"})#重新命名index列为nodeId\n",
        " "
      ],
      "execution_count": null,
      "outputs": [
        {
          "output_type": "error",
          "ename": "PowerIterationFailedConvergence",
          "evalue": "ignored",
          "traceback": [
            "\u001b[0;31m---------------------------------------------------------------------------\u001b[0m",
            "\u001b[0;31mPowerIterationFailedConvergence\u001b[0m           Traceback (most recent call last)",
            "\u001b[0;32m<ipython-input-16-49f5b3bd2f2e>\u001b[0m in \u001b[0;36m<module>\u001b[0;34m()\u001b[0m\n\u001b[1;32m      1\u001b[0m \u001b[0;32mimport\u001b[0m \u001b[0mpandas\u001b[0m \u001b[0;32mas\u001b[0m \u001b[0mpd\u001b[0m\u001b[0;34m\u001b[0m\u001b[0;34m\u001b[0m\u001b[0m\n\u001b[0;32m----> 2\u001b[0;31m \u001b[0meigenvector\u001b[0m\u001b[0;34m=\u001b[0m\u001b[0mnx\u001b[0m\u001b[0;34m.\u001b[0m\u001b[0meigenvector_centrality\u001b[0m\u001b[0;34m(\u001b[0m\u001b[0mG\u001b[0m\u001b[0;34m)\u001b[0m\u001b[0;34m\u001b[0m\u001b[0;34m\u001b[0m\u001b[0m\n\u001b[0m\u001b[1;32m      3\u001b[0m \u001b[0meigenvector_score\u001b[0m\u001b[0;34m=\u001b[0m\u001b[0msorted\u001b[0m\u001b[0;34m(\u001b[0m\u001b[0meigenvector\u001b[0m\u001b[0;34m.\u001b[0m\u001b[0mitems\u001b[0m\u001b[0;34m(\u001b[0m\u001b[0;34m)\u001b[0m\u001b[0;34m,\u001b[0m\u001b[0mkey\u001b[0m\u001b[0;34m=\u001b[0m\u001b[0;32mlambda\u001b[0m \u001b[0mx\u001b[0m\u001b[0;34m:\u001b[0m\u001b[0mx\u001b[0m\u001b[0;34m[\u001b[0m\u001b[0;36m1\u001b[0m\u001b[0;34m]\u001b[0m\u001b[0;34m,\u001b[0m\u001b[0mreverse\u001b[0m\u001b[0;34m=\u001b[0m\u001b[0;32mTrue\u001b[0m\u001b[0;34m)\u001b[0m\u001b[0;34m[\u001b[0m\u001b[0;36m0\u001b[0m\u001b[0;34m:\u001b[0m\u001b[0;36m10\u001b[0m\u001b[0;34m]\u001b[0m\u001b[0;34m\u001b[0m\u001b[0;34m\u001b[0m\u001b[0m\n\u001b[1;32m      4\u001b[0m \u001b[0mtype\u001b[0m\u001b[0;34m(\u001b[0m\u001b[0meigenvector_score\u001b[0m\u001b[0;34m)\u001b[0m\u001b[0;34m\u001b[0m\u001b[0;34m\u001b[0m\u001b[0m\n\u001b[1;32m      5\u001b[0m \u001b[0;34m\u001b[0m\u001b[0m\n",
            "\u001b[0;32m<decorator-gen-283>\u001b[0m in \u001b[0;36meigenvector_centrality\u001b[0;34m(G, max_iter, tol, nstart, weight)\u001b[0m\n",
            "\u001b[0;32m/usr/local/lib/python3.6/dist-packages/networkx/utils/decorators.py\u001b[0m in \u001b[0;36m_not_implemented_for\u001b[0;34m(not_implement_for_func, *args, **kwargs)\u001b[0m\n\u001b[1;32m     80\u001b[0m             \u001b[0;32mraise\u001b[0m \u001b[0mnx\u001b[0m\u001b[0;34m.\u001b[0m\u001b[0mNetworkXNotImplemented\u001b[0m\u001b[0;34m(\u001b[0m\u001b[0mmsg\u001b[0m\u001b[0;34m)\u001b[0m\u001b[0;34m\u001b[0m\u001b[0;34m\u001b[0m\u001b[0m\n\u001b[1;32m     81\u001b[0m         \u001b[0;32melse\u001b[0m\u001b[0;34m:\u001b[0m\u001b[0;34m\u001b[0m\u001b[0;34m\u001b[0m\u001b[0m\n\u001b[0;32m---> 82\u001b[0;31m             \u001b[0;32mreturn\u001b[0m \u001b[0mnot_implement_for_func\u001b[0m\u001b[0;34m(\u001b[0m\u001b[0;34m*\u001b[0m\u001b[0margs\u001b[0m\u001b[0;34m,\u001b[0m \u001b[0;34m**\u001b[0m\u001b[0mkwargs\u001b[0m\u001b[0;34m)\u001b[0m\u001b[0;34m\u001b[0m\u001b[0;34m\u001b[0m\u001b[0m\n\u001b[0m\u001b[1;32m     83\u001b[0m     \u001b[0;32mreturn\u001b[0m \u001b[0m_not_implemented_for\u001b[0m\u001b[0;34m\u001b[0m\u001b[0;34m\u001b[0m\u001b[0m\n\u001b[1;32m     84\u001b[0m \u001b[0;34m\u001b[0m\u001b[0m\n",
            "\u001b[0;32m/usr/local/lib/python3.6/dist-packages/networkx/algorithms/centrality/eigenvector.py\u001b[0m in \u001b[0;36meigenvector_centrality\u001b[0;34m(G, max_iter, tol, nstart, weight)\u001b[0m\n\u001b[1;32m    147\u001b[0m         \u001b[0;32mif\u001b[0m \u001b[0msum\u001b[0m\u001b[0;34m(\u001b[0m\u001b[0mabs\u001b[0m\u001b[0;34m(\u001b[0m\u001b[0mx\u001b[0m\u001b[0;34m[\u001b[0m\u001b[0mn\u001b[0m\u001b[0;34m]\u001b[0m \u001b[0;34m-\u001b[0m \u001b[0mxlast\u001b[0m\u001b[0;34m[\u001b[0m\u001b[0mn\u001b[0m\u001b[0;34m]\u001b[0m\u001b[0;34m)\u001b[0m \u001b[0;32mfor\u001b[0m \u001b[0mn\u001b[0m \u001b[0;32min\u001b[0m \u001b[0mx\u001b[0m\u001b[0;34m)\u001b[0m \u001b[0;34m<\u001b[0m \u001b[0mnnodes\u001b[0m \u001b[0;34m*\u001b[0m \u001b[0mtol\u001b[0m\u001b[0;34m:\u001b[0m\u001b[0;34m\u001b[0m\u001b[0;34m\u001b[0m\u001b[0m\n\u001b[1;32m    148\u001b[0m             \u001b[0;32mreturn\u001b[0m \u001b[0mx\u001b[0m\u001b[0;34m\u001b[0m\u001b[0;34m\u001b[0m\u001b[0m\n\u001b[0;32m--> 149\u001b[0;31m     \u001b[0;32mraise\u001b[0m \u001b[0mnx\u001b[0m\u001b[0;34m.\u001b[0m\u001b[0mPowerIterationFailedConvergence\u001b[0m\u001b[0;34m(\u001b[0m\u001b[0mmax_iter\u001b[0m\u001b[0;34m)\u001b[0m\u001b[0;34m\u001b[0m\u001b[0;34m\u001b[0m\u001b[0m\n\u001b[0m\u001b[1;32m    150\u001b[0m \u001b[0;34m\u001b[0m\u001b[0m\n\u001b[1;32m    151\u001b[0m \u001b[0;34m\u001b[0m\u001b[0m\n",
            "\u001b[0;31mPowerIterationFailedConvergence\u001b[0m: (PowerIterationFailedConvergence(...), 'power iteration failed to converge within 100 iterations')"
          ]
        }
      ]
    },
    {
      "cell_type": "code",
      "metadata": {
        "id": "t11ovZ7nxCKR"
      },
      "source": [
        "#e2.sort_values(by='index',ascending=False)\n",
        "offer=data.loc[:,['offerId','offer.addressname']]#选取列\n",
        "offer=offer.drop_duplicates('offerId')"
      ],
      "execution_count": null,
      "outputs": []
    },
    {
      "cell_type": "code",
      "metadata": {
        "id": "YP1mY9mFygK4",
        "colab": {
          "base_uri": "https://localhost:8080/",
          "height": 419
        },
        "outputId": "d8f5cf0a-456e-4891-98e6-1abfc824fd1b"
      },
      "source": [
        "e2=pd.merge(left=offer, right=e2, left_on='offerId', right_on='index')\n",
        "#e3.loc[:,['offer.addressname','eigenvector_score']]\n",
        "e2=e2.drop_duplicates('offer.addressname')\n",
        "e2.sort_values(by='eigenvector_score',ascending=False)"
      ],
      "execution_count": null,
      "outputs": [
        {
          "output_type": "execute_result",
          "data": {
            "text/html": [
              "<div>\n",
              "<style scoped>\n",
              "    .dataframe tbody tr th:only-of-type {\n",
              "        vertical-align: middle;\n",
              "    }\n",
              "\n",
              "    .dataframe tbody tr th {\n",
              "        vertical-align: top;\n",
              "    }\n",
              "\n",
              "    .dataframe thead th {\n",
              "        text-align: right;\n",
              "    }\n",
              "</style>\n",
              "<table border=\"1\" class=\"dataframe\">\n",
              "  <thead>\n",
              "    <tr style=\"text-align: right;\">\n",
              "      <th></th>\n",
              "      <th>offerId</th>\n",
              "      <th>offer.addressname</th>\n",
              "      <th>index</th>\n",
              "      <th>eigenvector_score</th>\n",
              "    </tr>\n",
              "  </thead>\n",
              "  <tbody>\n",
              "    <tr>\n",
              "      <th>7</th>\n",
              "      <td>292857</td>\n",
              "      <td>盘州农贸市场</td>\n",
              "      <td>292857</td>\n",
              "      <td>2.461461e-01</td>\n",
              "    </tr>\n",
              "    <tr>\n",
              "      <th>12</th>\n",
              "      <td>291994</td>\n",
              "      <td>望谟县丽甲习农特市场</td>\n",
              "      <td>291994</td>\n",
              "      <td>2.436417e-01</td>\n",
              "    </tr>\n",
              "    <tr>\n",
              "      <th>3</th>\n",
              "      <td>290987</td>\n",
              "      <td>贵州省锦屏农贸大市场</td>\n",
              "      <td>290987</td>\n",
              "      <td>1.555420e-01</td>\n",
              "    </tr>\n",
              "    <tr>\n",
              "      <th>37</th>\n",
              "      <td>292640</td>\n",
              "      <td>普安县金桥农贸市场</td>\n",
              "      <td>292640</td>\n",
              "      <td>1.544346e-01</td>\n",
              "    </tr>\n",
              "    <tr>\n",
              "      <th>26</th>\n",
              "      <td>291424</td>\n",
              "      <td>瓮安县文峰农贸市场</td>\n",
              "      <td>291424</td>\n",
              "      <td>1.531459e-01</td>\n",
              "    </tr>\n",
              "    <tr>\n",
              "      <th>...</th>\n",
              "      <td>...</td>\n",
              "      <td>...</td>\n",
              "      <td>...</td>\n",
              "      <td>...</td>\n",
              "    </tr>\n",
              "    <tr>\n",
              "      <th>91</th>\n",
              "      <td>292673</td>\n",
              "      <td>河南三门峡市灵宝市</td>\n",
              "      <td>292673</td>\n",
              "      <td>2.140293e-04</td>\n",
              "    </tr>\n",
              "    <tr>\n",
              "      <th>90</th>\n",
              "      <td>292372</td>\n",
              "      <td>山东临沂市蒙阴县</td>\n",
              "      <td>292372</td>\n",
              "      <td>2.140293e-04</td>\n",
              "    </tr>\n",
              "    <tr>\n",
              "      <th>85</th>\n",
              "      <td>291093</td>\n",
              "      <td>福建漳州市东山县</td>\n",
              "      <td>291093</td>\n",
              "      <td>4.907910e-06</td>\n",
              "    </tr>\n",
              "    <tr>\n",
              "      <th>47</th>\n",
              "      <td>292699</td>\n",
              "      <td>北京京丰岳各庄农副产品批发市场</td>\n",
              "      <td>292699</td>\n",
              "      <td>1.088315e-29</td>\n",
              "    </tr>\n",
              "    <tr>\n",
              "      <th>48</th>\n",
              "      <td>291990</td>\n",
              "      <td>上海农产品中心批发市场</td>\n",
              "      <td>291990</td>\n",
              "      <td>1.088315e-29</td>\n",
              "    </tr>\n",
              "  </tbody>\n",
              "</table>\n",
              "<p>115 rows × 4 columns</p>\n",
              "</div>"
            ],
            "text/plain": [
              "    offerId offer.addressname   index  eigenvector_score\n",
              "7    292857            盘州农贸市场  292857       2.461461e-01\n",
              "12   291994        望谟县丽甲习农特市场  291994       2.436417e-01\n",
              "3    290987        贵州省锦屏农贸大市场  290987       1.555420e-01\n",
              "37   292640         普安县金桥农贸市场  292640       1.544346e-01\n",
              "26   291424         瓮安县文峰农贸市场  291424       1.531459e-01\n",
              "..      ...               ...     ...                ...\n",
              "91   292673         河南三门峡市灵宝市  292673       2.140293e-04\n",
              "90   292372          山东临沂市蒙阴县  292372       2.140293e-04\n",
              "85   291093          福建漳州市东山县  291093       4.907910e-06\n",
              "47   292699   北京京丰岳各庄农副产品批发市场  292699       1.088315e-29\n",
              "48   291990       上海农产品中心批发市场  291990       1.088315e-29\n",
              "\n",
              "[115 rows x 4 columns]"
            ]
          },
          "metadata": {
            "tags": []
          },
          "execution_count": 33
        }
      ]
    },
    {
      "cell_type": "code",
      "metadata": {
        "id": "1JAnvJlJ516t"
      },
      "source": [
        "def get_score_name(e,left_on_name):\n",
        "  e=e.reset_index()\n",
        "  e=pd.merge(left=offer, right=e, left_on=left_on_name, right_on='index')\n",
        "  #e3.loc[:,['offer.addressname','eigenvector_score']]\n",
        "  e=e.drop_duplicates('offer.addressname')\n",
        "  e.sort_values(by='score',ascending=False)\n",
        "  return e\n"
      ],
      "execution_count": null,
      "outputs": []
    },
    {
      "cell_type": "markdown",
      "metadata": {
        "id": "8My4baDMra-9"
      },
      "source": [
        "#### 2）紧密中心度（Closeness centrality)\n",
        "测量从每个节点到其他所有节点平均距离。</br>\n",
        "Measures how central a node is within its cluster. Nodes with the shortest paths to all other nodes are assumed to be able to reach the entire group the fastest.\n",
        "\n",
        "\n",
        "> Closeness Centrality is applicable in a number of resource, communication and behavioral analyses, especially when interaction speed is significant. It has been used in identifying the best location of new public services for maximum accessibility.In social analysis, it helps find people with the ideal social network location for faster dissemination of information.\n",
        "\n"
      ]
    },
    {
      "cell_type": "code",
      "metadata": {
        "id": "dgVeLtY941zN",
        "colab": {
          "base_uri": "https://localhost:8080/",
          "height": 227
        },
        "outputId": "8a853525-d046-4ced-dcf0-32459f2abc5e"
      },
      "source": [
        "closeness=nx.closeness_centrality(G)\n",
        "e3=pd.DataFrame.from_dict(eigenvector, orient='index',columns=['score'])\n",
        "e3=get_score_name(e3,'offerId')\n",
        "e3"
      ],
      "execution_count": null,
      "outputs": [
        {
          "output_type": "error",
          "ename": "NameError",
          "evalue": "ignored",
          "traceback": [
            "\u001b[0;31m---------------------------------------------------------------------------\u001b[0m",
            "\u001b[0;31mNameError\u001b[0m                                 Traceback (most recent call last)",
            "\u001b[0;32m<ipython-input-18-fb9960a7437b>\u001b[0m in \u001b[0;36m<module>\u001b[0;34m()\u001b[0m\n\u001b[1;32m      1\u001b[0m \u001b[0mcloseness\u001b[0m\u001b[0;34m=\u001b[0m\u001b[0mnx\u001b[0m\u001b[0;34m.\u001b[0m\u001b[0mcloseness_centrality\u001b[0m\u001b[0;34m(\u001b[0m\u001b[0mG\u001b[0m\u001b[0;34m)\u001b[0m\u001b[0;34m\u001b[0m\u001b[0;34m\u001b[0m\u001b[0m\n\u001b[0;32m----> 2\u001b[0;31m \u001b[0me3\u001b[0m\u001b[0;34m=\u001b[0m\u001b[0mpd\u001b[0m\u001b[0;34m.\u001b[0m\u001b[0mDataFrame\u001b[0m\u001b[0;34m.\u001b[0m\u001b[0mfrom_dict\u001b[0m\u001b[0;34m(\u001b[0m\u001b[0meigenvector\u001b[0m\u001b[0;34m,\u001b[0m \u001b[0morient\u001b[0m\u001b[0;34m=\u001b[0m\u001b[0;34m'index'\u001b[0m\u001b[0;34m,\u001b[0m\u001b[0mcolumns\u001b[0m\u001b[0;34m=\u001b[0m\u001b[0;34m[\u001b[0m\u001b[0;34m'score'\u001b[0m\u001b[0;34m]\u001b[0m\u001b[0;34m)\u001b[0m\u001b[0;34m\u001b[0m\u001b[0;34m\u001b[0m\u001b[0m\n\u001b[0m\u001b[1;32m      3\u001b[0m \u001b[0me3\u001b[0m\u001b[0;34m=\u001b[0m\u001b[0mget_score_name\u001b[0m\u001b[0;34m(\u001b[0m\u001b[0me3\u001b[0m\u001b[0;34m,\u001b[0m\u001b[0;34m'offerId'\u001b[0m\u001b[0;34m)\u001b[0m\u001b[0;34m\u001b[0m\u001b[0;34m\u001b[0m\u001b[0m\n\u001b[1;32m      4\u001b[0m \u001b[0me3\u001b[0m\u001b[0;34m\u001b[0m\u001b[0;34m\u001b[0m\u001b[0m\n",
            "\u001b[0;31mNameError\u001b[0m: name 'eigenvector' is not defined"
          ]
        }
      ]
    },
    {
      "cell_type": "markdown",
      "metadata": {
        "id": "e7jRAM4EC3ip"
      },
      "source": [
        "### 4)pagerank\n",
        "pagerank中心度，Estimates a current node’s importance from its linked neighbors and then again from their neighbors. A node’s rank is derived from the number and quality of its transitive links to estimate influence. Although popularized by Google, it’s widely recognized as a way of detecting influential nodes in any networks.\n",
        "\n",
        "\n",
        "> PageRank is used to estimate importance and influence. It’s used to suggest Twitter accounts to follow and for general sentiment analysis. PageRank is also used in machine learning to identify the most influential features for extraction as well as ranking text for entity relevance in natural language processing.\n",
        "In biology, it’s been used to identify which species extinctions within a food web would lead to the biggest chain-reaction of species death.\n",
        "[netWorkx中对应解释](https://networkx.github.io/documentation/stable/reference/algorithms/generated/networkx.algorithms.link_analysis.pagerank_alg.pagerank.html#networkx.algorithms.link_analysis.pagerank_alg.pagerank)\n",
        "\n"
      ]
    },
    {
      "cell_type": "code",
      "metadata": {
        "id": "CNtKwN_7DSgW"
      },
      "source": [
        "e_pagerank=nx.pagerank(G)"
      ],
      "execution_count": null,
      "outputs": []
    },
    {
      "cell_type": "code",
      "metadata": {
        "id": "cY26VruMDgep",
        "colab": {
          "base_uri": "https://localhost:8080/",
          "height": 317
        },
        "outputId": "3ec4e4af-dc40-4b66-dea0-deb59d82eaac"
      },
      "source": [
        "e4=pd.DataFrame.from_dict(e_pagerank, orient='index',columns=['score'])\n",
        "e4=get_score_name(e4,'offerId')"
      ],
      "execution_count": null,
      "outputs": [
        {
          "output_type": "error",
          "ename": "NameError",
          "evalue": "ignored",
          "traceback": [
            "\u001b[0;31m---------------------------------------------------------------------------\u001b[0m",
            "\u001b[0;31mNameError\u001b[0m                                 Traceback (most recent call last)",
            "\u001b[0;32m<ipython-input-20-9708682fa956>\u001b[0m in \u001b[0;36m<module>\u001b[0;34m()\u001b[0m\n\u001b[1;32m      1\u001b[0m \u001b[0me4\u001b[0m\u001b[0;34m=\u001b[0m\u001b[0mpd\u001b[0m\u001b[0;34m.\u001b[0m\u001b[0mDataFrame\u001b[0m\u001b[0;34m.\u001b[0m\u001b[0mfrom_dict\u001b[0m\u001b[0;34m(\u001b[0m\u001b[0me_pagerank\u001b[0m\u001b[0;34m,\u001b[0m \u001b[0morient\u001b[0m\u001b[0;34m=\u001b[0m\u001b[0;34m'index'\u001b[0m\u001b[0;34m,\u001b[0m\u001b[0mcolumns\u001b[0m\u001b[0;34m=\u001b[0m\u001b[0;34m[\u001b[0m\u001b[0;34m'score'\u001b[0m\u001b[0;34m]\u001b[0m\u001b[0;34m)\u001b[0m\u001b[0;34m\u001b[0m\u001b[0;34m\u001b[0m\u001b[0m\n\u001b[0;32m----> 2\u001b[0;31m \u001b[0me4\u001b[0m\u001b[0;34m=\u001b[0m\u001b[0mget_score_name\u001b[0m\u001b[0;34m(\u001b[0m\u001b[0me4\u001b[0m\u001b[0;34m,\u001b[0m\u001b[0;34m'offerId'\u001b[0m\u001b[0;34m)\u001b[0m\u001b[0;34m\u001b[0m\u001b[0;34m\u001b[0m\u001b[0m\n\u001b[0m",
            "\u001b[0;32m<ipython-input-17-da8e3518cd8e>\u001b[0m in \u001b[0;36mget_score_name\u001b[0;34m(e, left_on_name)\u001b[0m\n\u001b[1;32m      1\u001b[0m \u001b[0;32mdef\u001b[0m \u001b[0mget_score_name\u001b[0m\u001b[0;34m(\u001b[0m\u001b[0me\u001b[0m\u001b[0;34m,\u001b[0m\u001b[0mleft_on_name\u001b[0m\u001b[0;34m)\u001b[0m\u001b[0;34m:\u001b[0m\u001b[0;34m\u001b[0m\u001b[0;34m\u001b[0m\u001b[0m\n\u001b[1;32m      2\u001b[0m   \u001b[0me\u001b[0m\u001b[0;34m=\u001b[0m\u001b[0me\u001b[0m\u001b[0;34m.\u001b[0m\u001b[0mreset_index\u001b[0m\u001b[0;34m(\u001b[0m\u001b[0;34m)\u001b[0m\u001b[0;34m\u001b[0m\u001b[0;34m\u001b[0m\u001b[0m\n\u001b[0;32m----> 3\u001b[0;31m   \u001b[0me\u001b[0m\u001b[0;34m=\u001b[0m\u001b[0mpd\u001b[0m\u001b[0;34m.\u001b[0m\u001b[0mmerge\u001b[0m\u001b[0;34m(\u001b[0m\u001b[0mleft\u001b[0m\u001b[0;34m=\u001b[0m\u001b[0moffer\u001b[0m\u001b[0;34m,\u001b[0m \u001b[0mright\u001b[0m\u001b[0;34m=\u001b[0m\u001b[0me\u001b[0m\u001b[0;34m,\u001b[0m \u001b[0mleft_on\u001b[0m\u001b[0;34m=\u001b[0m\u001b[0mleft_on_name\u001b[0m\u001b[0;34m,\u001b[0m \u001b[0mright_on\u001b[0m\u001b[0;34m=\u001b[0m\u001b[0;34m'index'\u001b[0m\u001b[0;34m)\u001b[0m\u001b[0;34m\u001b[0m\u001b[0;34m\u001b[0m\u001b[0m\n\u001b[0m\u001b[1;32m      4\u001b[0m   \u001b[0;31m#e3.loc[:,['offer.addressname','eigenvector_score']]\u001b[0m\u001b[0;34m\u001b[0m\u001b[0;34m\u001b[0m\u001b[0;34m\u001b[0m\u001b[0m\n\u001b[1;32m      5\u001b[0m   \u001b[0me\u001b[0m\u001b[0;34m=\u001b[0m\u001b[0me\u001b[0m\u001b[0;34m.\u001b[0m\u001b[0mdrop_duplicates\u001b[0m\u001b[0;34m(\u001b[0m\u001b[0;34m'offer.addressname'\u001b[0m\u001b[0;34m)\u001b[0m\u001b[0;34m\u001b[0m\u001b[0;34m\u001b[0m\u001b[0m\n",
            "\u001b[0;31mNameError\u001b[0m: name 'offer' is not defined"
          ]
        }
      ]
    },
    {
      "cell_type": "code",
      "metadata": {
        "id": "BgPUFvEtD0uW",
        "colab": {
          "base_uri": "https://localhost:8080/",
          "height": 419
        },
        "outputId": "644895cb-0ac5-4862-e36b-1778cfabd1fb"
      },
      "source": [
        "e4"
      ],
      "execution_count": null,
      "outputs": [
        {
          "output_type": "execute_result",
          "data": {
            "text/html": [
              "<div>\n",
              "<style scoped>\n",
              "    .dataframe tbody tr th:only-of-type {\n",
              "        vertical-align: middle;\n",
              "    }\n",
              "\n",
              "    .dataframe tbody tr th {\n",
              "        vertical-align: top;\n",
              "    }\n",
              "\n",
              "    .dataframe thead th {\n",
              "        text-align: right;\n",
              "    }\n",
              "</style>\n",
              "<table border=\"1\" class=\"dataframe\">\n",
              "  <thead>\n",
              "    <tr style=\"text-align: right;\">\n",
              "      <th></th>\n",
              "      <th>offerId</th>\n",
              "      <th>offer.addressname</th>\n",
              "      <th>index</th>\n",
              "      <th>score</th>\n",
              "    </tr>\n",
              "  </thead>\n",
              "  <tbody>\n",
              "    <tr>\n",
              "      <th>0</th>\n",
              "      <td>291804</td>\n",
              "      <td>湄潭县中国茶城</td>\n",
              "      <td>291804</td>\n",
              "      <td>0.003922</td>\n",
              "    </tr>\n",
              "    <tr>\n",
              "      <th>1</th>\n",
              "      <td>291036</td>\n",
              "      <td>六盘水明湖农贸市场</td>\n",
              "      <td>291036</td>\n",
              "      <td>0.008828</td>\n",
              "    </tr>\n",
              "    <tr>\n",
              "      <th>2</th>\n",
              "      <td>291608</td>\n",
              "      <td>钟山区康乐农贸市场</td>\n",
              "      <td>291608</td>\n",
              "      <td>0.005897</td>\n",
              "    </tr>\n",
              "    <tr>\n",
              "      <th>3</th>\n",
              "      <td>290987</td>\n",
              "      <td>贵州省锦屏农贸大市场</td>\n",
              "      <td>290987</td>\n",
              "      <td>0.012647</td>\n",
              "    </tr>\n",
              "    <tr>\n",
              "      <th>4</th>\n",
              "      <td>292980</td>\n",
              "      <td>黎平县水果批发市场</td>\n",
              "      <td>292980</td>\n",
              "      <td>0.003021</td>\n",
              "    </tr>\n",
              "    <tr>\n",
              "      <th>...</th>\n",
              "      <td>...</td>\n",
              "      <td>...</td>\n",
              "      <td>...</td>\n",
              "      <td>...</td>\n",
              "    </tr>\n",
              "    <tr>\n",
              "      <th>110</th>\n",
              "      <td>291587</td>\n",
              "      <td>陕西宝鸡市凤县</td>\n",
              "      <td>291587</td>\n",
              "      <td>0.002667</td>\n",
              "    </tr>\n",
              "    <tr>\n",
              "      <th>111</th>\n",
              "      <td>293051</td>\n",
              "      <td>云南昭通市鲁甸县</td>\n",
              "      <td>293051</td>\n",
              "      <td>0.002667</td>\n",
              "    </tr>\n",
              "    <tr>\n",
              "      <th>112</th>\n",
              "      <td>291656</td>\n",
              "      <td>陕西渭南市华州区</td>\n",
              "      <td>291656</td>\n",
              "      <td>0.002667</td>\n",
              "    </tr>\n",
              "    <tr>\n",
              "      <th>113</th>\n",
              "      <td>292941</td>\n",
              "      <td>广西南宁市西乡塘区</td>\n",
              "      <td>292941</td>\n",
              "      <td>0.002667</td>\n",
              "    </tr>\n",
              "    <tr>\n",
              "      <th>114</th>\n",
              "      <td>291541</td>\n",
              "      <td>独山县北集农产品交易市场</td>\n",
              "      <td>291541</td>\n",
              "      <td>0.002203</td>\n",
              "    </tr>\n",
              "  </tbody>\n",
              "</table>\n",
              "<p>115 rows × 4 columns</p>\n",
              "</div>"
            ],
            "text/plain": [
              "     offerId offer.addressname   index     score\n",
              "0     291804           湄潭县中国茶城  291804  0.003922\n",
              "1     291036         六盘水明湖农贸市场  291036  0.008828\n",
              "2     291608         钟山区康乐农贸市场  291608  0.005897\n",
              "3     290987        贵州省锦屏农贸大市场  290987  0.012647\n",
              "4     292980         黎平县水果批发市场  292980  0.003021\n",
              "..       ...               ...     ...       ...\n",
              "110   291587           陕西宝鸡市凤县  291587  0.002667\n",
              "111   293051          云南昭通市鲁甸县  293051  0.002667\n",
              "112   291656          陕西渭南市华州区  291656  0.002667\n",
              "113   292941         广西南宁市西乡塘区  292941  0.002667\n",
              "114   291541      独山县北集农产品交易市场  291541  0.002203\n",
              "\n",
              "[115 rows x 4 columns]"
            ]
          },
          "metadata": {
            "tags": []
          },
          "execution_count": 51
        }
      ]
    }
  ]
}